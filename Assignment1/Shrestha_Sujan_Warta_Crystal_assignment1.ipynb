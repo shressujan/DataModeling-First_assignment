{
 "cells": [
  {
   "cell_type": "code",
   "execution_count": 91,
   "metadata": {
    "collapsed": true
   },
   "outputs": [
    {
     "name": "stdout",
     "output_type": "stream",
     "text": [
      "1\n"
     ]
    }
   ],
   "source": []
  },
  {
   "cell_type": "code",
   "execution_count": 21,
   "metadata": {
    "scrolled": true
   },
   "outputs": [
    {
     "name": "stdout",
     "output_type": "stream",
     "text": [
      "[0.16069159 0.6441982 ]\n",
      "3.2065342979726124\n",
      "[ 2.40124376 -1.6496606 ]\n",
      "2.8244952771865974\n",
      "[-0.74676427 -2.03055365]\n",
      "2.7418495429582266\n",
      "[2.6452996  1.80370754]\n",
      "1.8230923574671767\n",
      "[1.94816658 0.11623487]\n"
     ]
    },
    {
     "data": {
      "image/png": "[encoded data removed]",
      "text/plain": [
       "<Figure size 432x288 with 1 Axes>"
      ]
     },
     "metadata": {
      "needs_background": "light"
     },
     "output_type": "display_data"
    }
   ],
   "source": [
    "import numpy as np\n",
    "from numpy import genfromtxt\n",
    "import pandas as pd\n",
    "from sklearn.preprocessing import StandardScaler\n",
    "import matplotlib.pyplot as plt \n",
    "import math\n",
    "from sklearn.datasets import make_blobs\n",
    "\n",
    "    \n",
    "\n",
    "def fit(self, X, k, n_init, max_iter=300, tol=1e-4, distance_metric=\"euclidean\"):\n",
    "    \n",
    "    #K-Means++ ************\n",
    "    \n",
    "    #d = [0.0 for _ in range(len(X))]\n",
    "    #print(d)\n",
    "    random = X[np.random.randint(X.shape[0], size=1), :]\n",
    "    #print(random)\n",
    "    centroids = np.array(random)\n",
    "    #np.append(centroids, random)\n",
    "    #print(centroids)\n",
    "    plt.scatter(centroids[:,0], centroids[:,1],  \n",
    "                color = 'blue', zorder=10)\n",
    "    \n",
    "    print(centroids[0]);\n",
    "    \n",
    "    for a in range(k-1):\n",
    "        farthestDist = 0\n",
    "        for b in range(X.shape[0]):\n",
    "            closestDistToCentroid = math.inf\n",
    "            for c in range(centroids.shape[0]): \n",
    "                distanceToACentroid = np.linalg.norm(X[b,:]-centroids[c,:])\n",
    "                if closestDistToCentroid > distanceToACentroid:\n",
    "                    closestDistToCentroid = distanceToACentroid\n",
    "                    closestCentroid = centroids[c,:]\n",
    "            \n",
    "            distToClosestCentroid = np.linalg.norm(X[b,:]-closestCentroid)\n",
    "            if distToClosestCentroid > farthestDist:\n",
    "                farthestDist = distToClosestCentroid\n",
    "                farthestPoint = X[b,:]\n",
    "                #print(dist)\n",
    "                #print(centroids[c,:])\n",
    "                #print(X[j,:])\n",
    "                \n",
    "        print(farthestDist)\n",
    "        print(farthestPoint)\n",
    "        \n",
    "        centroids = np.vstack([centroids, farthestPoint])\n",
    "        #farthestPoint = np.delete(farthestPoint, 1)\n",
    "        plt.scatter(farthestPoint[0], farthestPoint[1],  color = 'red', zorder=10)\n",
    "        \n",
    "    #END K-Means++ ************\n",
    "    \n",
    "    #K-Means Assignment step **************\n",
    "    closestCentroidArray = np.zeros(shape=(X.shape[0],2))\n",
    "   \n",
    "    for a in range(X.shape[0]):\n",
    "        closestDistToCentroid = math.inf\n",
    "        for b in range(centroids.shape[0]): \n",
    "            distanceToACentroid = np.linalg.norm(X[a,:]-centroids[b,:])\n",
    "            if closestDistToCentroid > distanceToACentroid:\n",
    "                closestDistToCentroid = distanceToACentroid\n",
    "                closestCentroid = centroids[b,:]\n",
    "        closestCentroidArray[a] = closestCentroid\n",
    "        \n",
    "    \n",
    "    #print(closestCentroidArray)\n",
    "        \n",
    "        \n",
    "        \n",
    "    \n",
    "        \n",
    "    X1 = X[:,0]\n",
    "    X2 = X[:,1]\n",
    "    \n",
    "    plt.plot() \n",
    "    plt.xlim([-4, 3]) \n",
    "    plt.ylim([-4, 3]) \n",
    "    plt.title('Dataset') \n",
    "    plt.scatter(X1, X2) \n",
    "    plt.show() \n",
    "    #print(X)\n",
    "    \n",
    "    \n",
    "blob_centers = np.array(\n",
    "    [[ 0.2,  2.3],\n",
    "     [-1.5 ,  2.3],\n",
    "     [-2.8,  1.8],\n",
    "     [-2.8,  2.8],\n",
    "     [-2.8,  1.3]])\n",
    "\n",
    "\n",
    "blob_std = np.array([0.4, 0.3, 0.1, 0.1, 0.1])\n",
    "\n",
    "X, y = make_blobs(n_samples=2000, centers=blob_centers,\n",
    "                  cluster_std=blob_std, random_state=7)\n",
    "\n",
    "#all_data = pd.read_csv('/Users/crystalwarta/Downloads/movies_metadata.csv')\n",
    "\n",
    "#all_data = all_data.dropna()\n",
    "\n",
    "#all_data.drop(all_data[all_data['vote_count'] <= 30 ].index, inplace=True)\n",
    "\n",
    "#my_data = all_data[['budget', 'popularity', 'revenue', 'runtime', 'vote_average', 'vote_count']].copy()\n",
    "#my_data = all_data[['budget', 'popularity']].copy()\n",
    "\n",
    "#col_names = ['budget', 'popularity', 'revenue', 'runtime', 'vote_average', 'vote_count']\n",
    "#col_names = ['budget', 'popularity']\n",
    "\n",
    "scaler = StandardScaler()\n",
    "\n",
    "\n",
    "\n",
    "X = scaler.fit_transform(X)\n",
    "\n",
    "#X = my_data.to_numpy()\n",
    "\n",
    "#print(X)\n",
    "\n",
    "fit(1, X, 5, 4)\n",
    "\n",
    "\n"
   ]
  },
  {
   "cell_type": "code",
   "execution_count": null,
   "metadata": {},
   "outputs": [],
   "source": []
  },
  {
   "cell_type": "code",
   "execution_count": null,
   "metadata": {},
   "outputs": [],
   "source": []
  },
  {
   "cell_type": "code",
   "execution_count": null,
   "metadata": {},
   "outputs": [],
   "source": []
  }
 ],
 "metadata": {
  "kernelspec": {
   "display_name": "Python 3",
   "language": "python",
   "name": "python3"
  },
  "language_info": {
   "codemirror_mode": {
    "name": "ipython",
    "version": 3
   },
   "file_extension": ".py",
   "mimetype": "text/x-python",
   "name": "python",
   "nbconvert_exporter": "python",
   "pygments_lexer": "ipython3",
   "version": "3.7.4"
  }
 },
 "nbformat": 4,
 "nbformat_minor": 4
}
