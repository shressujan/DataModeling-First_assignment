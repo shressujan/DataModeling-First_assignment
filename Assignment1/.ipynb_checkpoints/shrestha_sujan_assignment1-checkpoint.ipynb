{
 "cells": [
  {
   "cell_type": "code",
   "execution_count": 19,
   "metadata": {},
   "outputs": [
    {
     "data": {
      "image/png": "[encoded data removed]",
      "text/plain": [
       "<Figure size 720x288 with 1 Axes>"
      ]
     },
     "metadata": {
      "needs_background": "light"
     },
     "output_type": "display_data"
    }
   ],
   "source": [
    "import matplotlib.pyplot as plt\n",
    "import numpy as np\n",
    "\n",
    "from sklearn.datasets import make_blobs\n",
    "from sklearn.cluster import KMeans\n",
    "\n",
    "blob_centers = np.array(\n",
    "    [[0.2, 2.3],\n",
    "     [-1.5, 2.3],\n",
    "     [-2.8, 1.8],\n",
    "     [-2.8, 2.8],\n",
    "     [-2.8, 1.3]])\n",
    "\n",
    "blob_std = np.array([0.4, 0.3, 0.1, 0.1, 0.1])\n",
    "\n",
    "\n",
    "def euclidean_metrics(x, y):\n",
    "    distance_xy = np.square(np.subtract(x, y))\n",
    "    sum_distance = np.sum(distance_xy)\n",
    "\n",
    "    return np.sqrt(sum_distance)\n",
    "\n",
    "\n",
    "def intra_cluster_distance(x, labels, i):\n",
    "    same_cluster_indices = np.where(labels == labels[i])[0]\n",
    "    if len(same_cluster_indices) == 0:\n",
    "        a = 0\n",
    "    else:\n",
    "        distance = []\n",
    "        for j in same_cluster_indices:\n",
    "            if j != i:\n",
    "                distance.append(euclidean_metrics(x[i], x[j]))\n",
    "        a = np.mean(distance)\n",
    "\n",
    "    return a\n",
    "\n",
    "\n",
    "def nearest_cluster_distance(x, labels, i):\n",
    "    different_cluster_indices = np.where(labels != labels[i])[0]\n",
    "    if len(different_cluster_indices) == 0:\n",
    "        b = 0\n",
    "    else:\n",
    "        distance_dict = {}\n",
    "        for j in different_cluster_indices:\n",
    "            key = labels[j]\n",
    "            if key in distance_dict.keys():\n",
    "                distance_dict[key].append(euclidean_metrics(x[i], x[j]))\n",
    "            else:    \n",
    "                distance_dict.update({key: [euclidean_metrics(x[i], x[j])]})\n",
    "        \n",
    "        mean_distance = []\n",
    "        for row in distance_dict.values():\n",
    "            mean_distance.append([np.mean(row)])\n",
    "        \n",
    "        min_mean_distance = np.min(mean_distance)\n",
    "        b = min_mean_distance\n",
    "    return b\n",
    "\n",
    "\n",
    "def silhouette_score(x, labels):\n",
    "\n",
    "    a = []\n",
    "    b = []\n",
    "    score = []\n",
    "    for i in range(len(labels)):\n",
    "        a.append(intra_cluster_distance(x, labels, i))\n",
    "        b.append(nearest_cluster_distance(x, labels, i))\n",
    "        score.append((b[i] - a[i]) / (np.maximum(a[i], b[i])))\n",
    "\n",
    "    return np.mean(score)\n",
    "\n",
    "\n",
    "\n",
    "x, y = make_blobs(n_samples=2000, centers=blob_centers,\n",
    "                    cluster_std=blob_std, random_state=7)\n",
    "\n",
    "\n",
    "kmeans_per_k = [KMeans(n_clusters=k, random_state=42).fit(x)\n",
    "                    for k in range(1, 10)]\n",
    "\n",
    "# getting the silhouette score\n",
    "silhouette_scores = [silhouette_score(x, model.labels_)\n",
    "                        for model in kmeans_per_k[1:]]\n",
    "\n",
    "plt.figure(figsize=(10, 4))\n",
    "plt.plot(range(2, 10), silhouette_scores, \"bo-\")\n",
    "plt.xlabel(\"$k$\", fontsize=14)\n",
    "plt.ylabel(\"Silhouette score\", fontsize=14)\n",
    "plt.axis([1.8, 8.5, 0.55, 0.7])\n",
    "plt.show()\n",
    "\n"
   ]
  },
  {
   "cell_type": "code",
   "execution_count": null,
   "metadata": {},
   "outputs": [],
   "source": []
  },
  {
   "cell_type": "code",
   "execution_count": null,
   "metadata": {},
   "outputs": [],
   "source": [
    "()"
   ]
  }
 ],
 "metadata": {
  "kernelspec": {
   "display_name": "Python 3",
   "language": "python",
   "name": "python3"
  },
  "language_info": {
   "codemirror_mode": {
    "name": "ipython",
    "version": 3
   },
   "file_extension": ".py",
   "mimetype": "text/x-python",
   "name": "python",
   "nbconvert_exporter": "python",
   "pygments_lexer": "ipython3",
   "version": "3.7.6"
  }
 },
 "nbformat": 4,
 "nbformat_minor": 2
}
